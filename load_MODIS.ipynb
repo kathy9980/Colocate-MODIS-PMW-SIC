{
 "cells": [
  {
   "cell_type": "code",
   "execution_count": 1,
   "metadata": {},
   "outputs": [],
   "source": [
    "import numpy as np\n",
    "import xarray as xr\n",
    "from matplotlib import pyplot as plt\n",
    "%matplotlib inline"
   ]
  },
  {
   "cell_type": "markdown",
   "metadata": {},
   "source": [
    "## load a single dataset"
   ]
  },
  {
   "cell_type": "code",
   "execution_count": 2,
   "metadata": {},
   "outputs": [
    {
     "name": "stderr",
     "output_type": "stream",
     "text": [
      "/srv/conda/envs/notebook/lib/python3.7/site-packages/xarray/conventions.py:448: SerializationWarning: variable 'Sea_Ice_by_Reflectance' has multiple fill values {0, 255}, decoding all values to NaN.\n",
      "  stack_char_dim=stack_char_dim, use_cftime=use_cftime)\n"
     ]
    },
    {
     "data": {
      "text/plain": [
       "<xarray.Dataset>\n",
       "Dimensions:                             (XDim:MOD_Grid_Seaice_1km: 951, YDim:MOD_Grid_Seaice_1km: 951)\n",
       "Dimensions without coordinates: XDim:MOD_Grid_Seaice_1km, YDim:MOD_Grid_Seaice_1km\n",
       "Data variables:\n",
       "    Sea_Ice_by_Reflectance              (YDim:MOD_Grid_Seaice_1km, XDim:MOD_Grid_Seaice_1km) float32 ...\n",
       "    Sea_Ice_by_Reflectance_Spatial_QA   (YDim:MOD_Grid_Seaice_1km, XDim:MOD_Grid_Seaice_1km) float32 ...\n",
       "    Ice_Surface_Temperature             (YDim:MOD_Grid_Seaice_1km, XDim:MOD_Grid_Seaice_1km) float32 ...\n",
       "    Ice_Surface_Temperature_Spatial_QA  (YDim:MOD_Grid_Seaice_1km, XDim:MOD_Grid_Seaice_1km) float32 ...\n",
       "Attributes:\n",
       "    HDFEOSVersion:                     HDFEOS_V2.19\n",
       "    StructMetadata.0:                  GROUP=SwathStructure\\nEND_GROUP=SwathS...\n",
       "    MOD29InputGranuleNames:            MOD29.A2018248.0125.006.2018248133632....\n",
       "    identifier_product_doi:            10.5067/MODIS/MOD29P1D.006\n",
       "    identifier_product_doi_authority:  http://dx.doi.org\n",
       "    SCF Algorithm Version:             \\t$Id: MOD_PR29A1_AAmain.c,v 1.10 2002...\n",
       "    CoreMetadata.0:                    \\nGROUP                  = INVENTORYME...\n",
       "    ArchiveMetadata.0:                 \\nGROUP                  = ARCHIVEDMET..."
      ]
     },
     "execution_count": 2,
     "metadata": {},
     "output_type": "execute_result"
    }
   ],
   "source": [
    "f = 'MOD29P1D.A2018248.h08v10.006.2018249075929.hdf'\n",
    "# url = 'https://n5eil01u.ecs.nsidc.org/AMSA/AE_SI25.003/2008.07.01/AMSR_E_L3_SeaIce25km_V15_20080701.hdf.xml'\n",
    "ds = xr.open_dataset(f)\n",
    "ds"
   ]
  },
  {
   "cell_type": "markdown",
   "metadata": {},
   "source": [
    "## print the keys of `Sea_Ice_by_Reflectance`"
   ]
  },
  {
   "cell_type": "code",
   "execution_count": 3,
   "metadata": {},
   "outputs": [
    {
     "data": {
      "text/plain": [
       "['0=missing data',\n",
       " '1=no decision',\n",
       " '11=night',\n",
       " '25=land',\n",
       " '37=inland water',\n",
       " '39=ocean',\n",
       " '50=cloud',\n",
       " '200=sea ice',\n",
       " '253=land mask',\n",
       " '254=ocean mask',\n",
       " '255=fill']"
      ]
     },
     "execution_count": 3,
     "metadata": {},
     "output_type": "execute_result"
    }
   ],
   "source": [
    "ds.Sea_Ice_by_Reflectance.Key.split(', ')"
   ]
  },
  {
   "cell_type": "code",
   "execution_count": 7,
   "metadata": {},
   "outputs": [
    {
     "data": {
      "text/plain": [
       "array([[ 50.,  50.,  50., ...,  50.,  50.,  50.],\n",
       "       [ 50.,  50.,  50., ...,  50.,  50.,  50.],\n",
       "       [ 50.,  50.,  50., ...,  50.,  50.,  50.],\n",
       "       ...,\n",
       "       [ 25.,  25.,  25., ..., 200., 200., 200.],\n",
       "       [ 25.,  25.,  25., ..., 200., 200., 200.],\n",
       "       [ 25.,  25.,  25., ..., 200., 200., 200.]], dtype=float32)"
      ]
     },
     "execution_count": 7,
     "metadata": {},
     "output_type": "execute_result"
    }
   ],
   "source": [
    "SIbR = ds.Sea_Ice_by_Reflectance.values\n",
    "SIbR"
   ]
  },
  {
   "cell_type": "markdown",
   "metadata": {},
   "source": [
    "## Now, let's plot MODIS reflectance"
   ]
  },
  {
   "cell_type": "markdown",
   "metadata": {},
   "source": [
    "### 1. create a new colormap"
   ]
  },
  {
   "cell_type": "code",
   "execution_count": 11,
   "metadata": {},
   "outputs": [],
   "source": [
    "import matplotlib as mpl\n",
    "from matplotlib.colors import ListedColormap\n",
    "import matplotlib.pyplot as plt"
   ]
  },
  {
   "cell_type": "code",
   "execution_count": 23,
   "metadata": {},
   "outputs": [
    {
     "data": {
      "image/png": "[encoded data removed]",
      "text/plain": [
       "<Figure size 720x720 with 2 Axes>"
      ]
     },
     "metadata": {
      "needs_background": "light"
     },
     "output_type": "display_data"
    }
   ],
   "source": [
    "fig, ax = plt.subplots(figsize=(10, 10))\n",
    "cmap = ListedColormap(['red', \n",
    "                       'green', \n",
    "                       'gray',\n",
    "                       'darkgray',\n",
    "                       'cyan',\n",
    "                       'blue',\n",
    "                       'black',\n",
    "                       'white',\n",
    "                       'darkorange',\n",
    "                       'purple',\n",
    "                       'yellow'])\n",
    "# bounds =     [0,1,11,25,37,39,50,200,253,254,255]\n",
    "# norm = mpl.colors.BoundaryNorm(bounds, cmap.N)\n",
    "# cb2 = mpl.colorbar.ColorbarBase(ax, cmap=cmap,\n",
    "#                                 norm=norm,\n",
    "#                                 boundaries= bounds + [256],\n",
    "#                                 extend='both',\n",
    "#                                 ticks= bounds,\n",
    "#                                 spacing='proportional',\n",
    "#                                 orientation='horizontal')\n",
    "\n",
    "im = ax.imshow(SIbR, cmap = cmap)\n",
    "fig.colorbar(im)\n",
    "plt.show()"
   ]
  },
  {
   "cell_type": "code",
   "execution_count": 8,
   "metadata": {},
   "outputs": [
    {
     "ename": "HTTPError",
     "evalue": "302 Found\n<!DOCTYPE HTML PUBLIC \"-//IETF//DTD HTML 2.0//EN\">\n<html><head>\n<title>302 Found</title>\n</head><body>\n<h1>Found</h1>\n<p>The document has moved <a href=\"https://urs.earthdata.nasa.gov/oauth/authorize?client_id=_JLuwMHxb2xX6NwYTb4dRA&amp;response_type=code&amp;redirect_uri=https%3A%2F%2Fn5eil01u.ecs.nsidc.org%2FOPS%2Fredirect&amp;state=aHR0cDovL241ZWlsMDF1LmVjcy5uc2lkYy5vcmcvTU9TVC9NT0QyOVAxRC4wMDYvMjAwMC4wMi4yNC9NT0QyOVAxRC5BMjAwMDA1NS5oMDl2MzMuMDA2LjIwMTUwNDAyMDQ1NDYuaGRmLmRkcw\">here</a>.</p>\n</body></html>\n",
     "output_type": "error",
     "traceback": [
      "\u001b[0;31m---------------------------------------------------------------------------\u001b[0m",
      "\u001b[0;31mHTTPError\u001b[0m                                 Traceback (most recent call last)",
      "\u001b[0;32m<ipython-input-8-e1574b4d436a>\u001b[0m in \u001b[0;36m<module>\u001b[0;34m\u001b[0m\n\u001b[1;32m      7\u001b[0m \u001b[0;31m# url2 = \"https://n5eil01u.ecs.nsidc.org/MOST/MOD29P1D.006/2000.02.24/MOD29P1D.A2000055.h09v33.006.2015040204546.hdf.xml\"\u001b[0m\u001b[0;34m\u001b[0m\u001b[0;34m\u001b[0m\u001b[0;34m\u001b[0m\u001b[0m\n\u001b[1;32m      8\u001b[0m \u001b[0;34m\u001b[0m\u001b[0m\n\u001b[0;32m----> 9\u001b[0;31m \u001b[0mds\u001b[0m \u001b[0;34m=\u001b[0m \u001b[0mopen_url\u001b[0m\u001b[0;34m(\u001b[0m\u001b[0murl\u001b[0m\u001b[0;34m,\u001b[0m \u001b[0msession\u001b[0m\u001b[0;34m=\u001b[0m\u001b[0msession\u001b[0m\u001b[0;34m)\u001b[0m\u001b[0;34m\u001b[0m\u001b[0;34m\u001b[0m\u001b[0m\n\u001b[0m\u001b[1;32m     10\u001b[0m \u001b[0;31m# ds = xr.open_dataset(url2)\u001b[0m\u001b[0;34m\u001b[0m\u001b[0;34m\u001b[0m\u001b[0;34m\u001b[0m\u001b[0m\n\u001b[1;32m     11\u001b[0m \u001b[0;31m# ds\u001b[0m\u001b[0;34m\u001b[0m\u001b[0;34m\u001b[0m\u001b[0;34m\u001b[0m\u001b[0m\n",
      "\u001b[0;32m/srv/conda/envs/notebook/lib/python3.7/site-packages/pydap/client.py\u001b[0m in \u001b[0;36mopen_url\u001b[0;34m(url, application, session, output_grid, timeout)\u001b[0m\n\u001b[1;32m     65\u001b[0m     \"\"\"\n\u001b[1;32m     66\u001b[0m     dataset = DAPHandler(url, application, session, output_grid,\n\u001b[0;32m---> 67\u001b[0;31m                          timeout).dataset\n\u001b[0m\u001b[1;32m     68\u001b[0m \u001b[0;34m\u001b[0m\u001b[0m\n\u001b[1;32m     69\u001b[0m     \u001b[0;31m# attach server-side functions\u001b[0m\u001b[0;34m\u001b[0m\u001b[0;34m\u001b[0m\u001b[0;34m\u001b[0m\u001b[0m\n",
      "\u001b[0;32m/srv/conda/envs/notebook/lib/python3.7/site-packages/pydap/handlers/dap.py\u001b[0m in \u001b[0;36m__init__\u001b[0;34m(self, url, application, session, output_grid, timeout)\u001b[0m\n\u001b[1;32m     52\u001b[0m         \u001b[0mddsurl\u001b[0m \u001b[0;34m=\u001b[0m \u001b[0murlunsplit\u001b[0m\u001b[0;34m(\u001b[0m\u001b[0;34m(\u001b[0m\u001b[0mscheme\u001b[0m\u001b[0;34m,\u001b[0m \u001b[0mnetloc\u001b[0m\u001b[0;34m,\u001b[0m \u001b[0mpath\u001b[0m \u001b[0;34m+\u001b[0m \u001b[0;34m'.dds'\u001b[0m\u001b[0;34m,\u001b[0m \u001b[0mquery\u001b[0m\u001b[0;34m,\u001b[0m \u001b[0mfragment\u001b[0m\u001b[0;34m)\u001b[0m\u001b[0;34m)\u001b[0m\u001b[0;34m\u001b[0m\u001b[0;34m\u001b[0m\u001b[0m\n\u001b[1;32m     53\u001b[0m         \u001b[0mr\u001b[0m \u001b[0;34m=\u001b[0m \u001b[0mGET\u001b[0m\u001b[0;34m(\u001b[0m\u001b[0mddsurl\u001b[0m\u001b[0;34m,\u001b[0m \u001b[0mapplication\u001b[0m\u001b[0;34m,\u001b[0m \u001b[0msession\u001b[0m\u001b[0;34m,\u001b[0m \u001b[0mtimeout\u001b[0m\u001b[0;34m=\u001b[0m\u001b[0mtimeout\u001b[0m\u001b[0;34m)\u001b[0m\u001b[0;34m\u001b[0m\u001b[0;34m\u001b[0m\u001b[0m\n\u001b[0;32m---> 54\u001b[0;31m         \u001b[0mraise_for_status\u001b[0m\u001b[0;34m(\u001b[0m\u001b[0mr\u001b[0m\u001b[0;34m)\u001b[0m\u001b[0;34m\u001b[0m\u001b[0;34m\u001b[0m\u001b[0m\n\u001b[0m\u001b[1;32m     55\u001b[0m         \u001b[0;32mif\u001b[0m \u001b[0;32mnot\u001b[0m \u001b[0mr\u001b[0m\u001b[0;34m.\u001b[0m\u001b[0mcharset\u001b[0m\u001b[0;34m:\u001b[0m\u001b[0;34m\u001b[0m\u001b[0;34m\u001b[0m\u001b[0m\n\u001b[1;32m     56\u001b[0m             \u001b[0mr\u001b[0m\u001b[0;34m.\u001b[0m\u001b[0mcharset\u001b[0m \u001b[0;34m=\u001b[0m \u001b[0;34m'ascii'\u001b[0m\u001b[0;34m\u001b[0m\u001b[0;34m\u001b[0m\u001b[0m\n",
      "\u001b[0;32m/srv/conda/envs/notebook/lib/python3.7/site-packages/pydap/net.py\u001b[0m in \u001b[0;36mraise_for_status\u001b[0;34m(response)\u001b[0m\n\u001b[1;32m     37\u001b[0m             \u001b[0mdetail\u001b[0m\u001b[0;34m=\u001b[0m\u001b[0mresponse\u001b[0m\u001b[0;34m.\u001b[0m\u001b[0mstatus\u001b[0m\u001b[0;34m+\u001b[0m\u001b[0;34m'\\n'\u001b[0m\u001b[0;34m+\u001b[0m\u001b[0mresponse\u001b[0m\u001b[0;34m.\u001b[0m\u001b[0mtext\u001b[0m\u001b[0;34m,\u001b[0m\u001b[0;34m\u001b[0m\u001b[0;34m\u001b[0m\u001b[0m\n\u001b[1;32m     38\u001b[0m             \u001b[0mheaders\u001b[0m\u001b[0;34m=\u001b[0m\u001b[0mresponse\u001b[0m\u001b[0;34m.\u001b[0m\u001b[0mheaders\u001b[0m\u001b[0;34m,\u001b[0m\u001b[0;34m\u001b[0m\u001b[0;34m\u001b[0m\u001b[0m\n\u001b[0;32m---> 39\u001b[0;31m             \u001b[0mcomment\u001b[0m\u001b[0;34m=\u001b[0m\u001b[0mresponse\u001b[0m\u001b[0;34m.\u001b[0m\u001b[0mbody\u001b[0m\u001b[0;34m\u001b[0m\u001b[0;34m\u001b[0m\u001b[0m\n\u001b[0m\u001b[1;32m     40\u001b[0m         )\n\u001b[1;32m     41\u001b[0m \u001b[0;34m\u001b[0m\u001b[0m\n",
      "\u001b[0;31mHTTPError\u001b[0m: 302 Found\n<!DOCTYPE HTML PUBLIC \"-//IETF//DTD HTML 2.0//EN\">\n<html><head>\n<title>302 Found</title>\n</head><body>\n<h1>Found</h1>\n<p>The document has moved <a href=\"https://urs.earthdata.nasa.gov/oauth/authorize?client_id=_JLuwMHxb2xX6NwYTb4dRA&amp;response_type=code&amp;redirect_uri=https%3A%2F%2Fn5eil01u.ecs.nsidc.org%2FOPS%2Fredirect&amp;state=aHR0cDovL241ZWlsMDF1LmVjcy5uc2lkYy5vcmcvTU9TVC9NT0QyOVAxRC4wMDYvMjAwMC4wMi4yNC9NT0QyOVAxRC5BMjAwMDA1NS5oMDl2MzMuMDA2LjIwMTUwNDAyMDQ1NDYuaGRmLmRkcw\">here</a>.</p>\n</body></html>\n"
     ]
    }
   ],
   "source": [
    "from pydap.client import open_url\n",
    "from pydap.cas.urs import setup_session\n",
    "\n",
    "# url = 'https://urs.earthdata.nasa.gov/'\n",
    "url = \"https://n5eil01u.ecs.nsidc.org/MOST/MOD29P1D.006/2000.02.24/MOD29P1D.A2000055.h09v33.006.2015040204546.hdf\"\n",
    "session = setup_session(username = 'Kexin.Song', password = 'Kathy-mao3gou4', check_url=url)\n",
    "# url2 = \"https://n5eil01u.ecs.nsidc.org/MOST/MOD29P1D.006/2000.02.24/MOD29P1D.A2000055.h09v33.006.2015040204546.hdf.xml\"\n",
    "\n",
    "ds = open_url(url, session=session)\n",
    "ds"
   ]
  },
  {
   "cell_type": "code",
   "execution_count": null,
   "metadata": {},
   "outputs": [],
   "source": []
  },
  {
   "cell_type": "code",
   "execution_count": 2,
   "metadata": {},
   "outputs": [
    {
     "ename": "ModuleNotFoundError",
     "evalue": "No module named 'netcdf4_pydap'",
     "output_type": "error",
     "traceback": [
      "\u001b[0;31m---------------------------------------------------------------------------\u001b[0m",
      "\u001b[0;31mModuleNotFoundError\u001b[0m                       Traceback (most recent call last)",
      "\u001b[0;32m<ipython-input-2-695329d2792d>\u001b[0m in \u001b[0;36m<module>\u001b[0;34m\u001b[0m\n\u001b[1;32m      1\u001b[0m \u001b[0;32mimport\u001b[0m \u001b[0mmatplotlib\u001b[0m\u001b[0;34m.\u001b[0m\u001b[0mpyplot\u001b[0m \u001b[0;32mas\u001b[0m \u001b[0mplt\u001b[0m\u001b[0;34m\u001b[0m\u001b[0;34m\u001b[0m\u001b[0m\n\u001b[1;32m      2\u001b[0m \u001b[0;32mimport\u001b[0m \u001b[0mnumpy\u001b[0m \u001b[0;32mas\u001b[0m \u001b[0mnp\u001b[0m\u001b[0;34m\u001b[0m\u001b[0;34m\u001b[0m\u001b[0m\n\u001b[0;32m----> 3\u001b[0;31m \u001b[0;32mimport\u001b[0m \u001b[0mnetcdf4_pydap\u001b[0m\u001b[0;34m\u001b[0m\u001b[0;34m\u001b[0m\u001b[0m\n\u001b[0m\u001b[1;32m      4\u001b[0m \u001b[0;34m\u001b[0m\u001b[0m\n\u001b[1;32m      5\u001b[0m credentials={'username': Kexin.Song,\n",
      "\u001b[0;31mModuleNotFoundError\u001b[0m: No module named 'netcdf4_pydap'"
     ]
    }
   ],
   "source": [
    "import matplotlib.pyplot as plt\n",
    "import numpy as np\n",
    "import netcdf4_pydap\n",
    "\n",
    "credentials={'username': Kexin.Song,\n",
    "             'password': Kathy-mao3gou4,\n",
    "             'authentication_url':'https://urs.earthdata.nasa.gov/'}\n",
    "url = ('http://goldsmr3.gesdisc.eosdis.nasa.gov:80/opendap/'\n",
    "       'MERRA_MONTHLY/MAIMCPASM.5.2.0/1979/MERRA100.prod.assim.instM_3d_asm_Cp.197901.hdf')\n",
    "\n",
    "with netcdf4_pydap.Dataset(url, **credentials) as dataset:\n",
    "    data = dataset.variables['SLP'][0,:,:]\n",
    "    plt.contourf(np.squeeze(data))\n",
    "    plt.show()"
   ]
  },
  {
   "cell_type": "code",
   "execution_count": null,
   "metadata": {},
   "outputs": [],
   "source": []
  },
  {
   "cell_type": "code",
   "execution_count": null,
   "metadata": {},
   "outputs": [],
   "source": [
    "url = \"https://n5eil01u.ecs.nsidc.org/MOST/MOD29P1D.006/2008.07.01/MOD29P1D.A2008183.h06v13.006.2015176144528.hdf\"\n",
    "ds = xr.open_dataset(url)\n",
    "ds"
   ]
  },
  {
   "cell_type": "code",
   "execution_count": null,
   "metadata": {},
   "outputs": [],
   "source": []
  }
 ],
 "metadata": {
  "kernelspec": {
   "display_name": "Python 3",
   "language": "python",
   "name": "python3"
  },
  "language_info": {
   "codemirror_mode": {
    "name": "ipython",
    "version": 3
   },
   "file_extension": ".py",
   "mimetype": "text/x-python",
   "name": "python",
   "nbconvert_exporter": "python",
   "pygments_lexer": "ipython3",
   "version": "3.7.3"
  }
 },
 "nbformat": 4,
 "nbformat_minor": 4
}
